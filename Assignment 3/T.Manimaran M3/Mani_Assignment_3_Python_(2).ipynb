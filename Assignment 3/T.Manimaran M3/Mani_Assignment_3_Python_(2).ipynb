{
  "cells": [
    {
      "cell_type": "markdown",
      "metadata": {
        "id": "fwU2iooz85jt"
      },
      "source": [
        "## Exercises\n",
        "\n",
        "Answer the questions or complete the tasks outlined in bold below, use the specific method described if applicable."
      ]
    },
    {
      "cell_type": "markdown",
      "metadata": {
        "id": "SzBQQ_ml85j1"
      },
      "source": [
        "** What is 7 to the power of 4?**"
      ]
    },
    {
      "cell_type": "code",
      "execution_count": null,
      "metadata": {
        "id": "UhvE4PBC85j3",
        "outputId": "d8446ae0-e924-4d62-cec7-e618b199c7b7",
        "colab": {
          "base_uri": "https://localhost:8080/"
        }
      },
      "outputs": [
        {
          "output_type": "stream",
          "name": "stdout",
          "text": [
            "2401\n"
          ]
        }
      ],
      "source": [
        "print(7**4);\n"
      ]
    },
    {
      "cell_type": "markdown",
      "metadata": {
        "id": "ds8G9S8j85j6"
      },
      "source": [
        "** Split this string:**\n",
        "\n",
        "    s = \"Hi there Sam!\"\n",
        "    \n",
        "**into a list. **"
      ]
    },
    {
      "cell_type": "code",
      "execution_count": null,
      "metadata": {
        "collapsed": true,
        "id": "GD_Tls3H85j7",
        "colab": {
          "base_uri": "https://localhost:8080/"
        },
        "outputId": "5bb47823-bd7d-4f8b-dfc8-885507090747"
      },
      "outputs": [
        {
          "output_type": "stream",
          "name": "stdout",
          "text": [
            "['Hi', 'there', 'Sam!']\n"
          ]
        }
      ],
      "source": [
        "s=\"Hi there Sam!\"\n",
        "s=s.split()\n",
        "print(s);"
      ]
    },
    {
      "cell_type": "code",
      "execution_count": null,
      "metadata": {
        "id": "RRGOKoai85j8",
        "outputId": "14da29f8-3691-402e-ad38-4f8c1a5e903a",
        "colab": {
          "base_uri": "https://localhost:8080/"
        }
      },
      "outputs": [
        {
          "output_type": "stream",
          "name": "stdout",
          "text": [
            "['Hi', 'there', 'dad']\n"
          ]
        }
      ],
      "source": [
        "s=\"Hi there dad\"\n",
        "s=s.split()\n",
        "print(s);\n"
      ]
    },
    {
      "cell_type": "markdown",
      "metadata": {
        "id": "_bBNOu-785j9"
      },
      "source": [
        "** Given the variables:**\n",
        "\n",
        "    planet = \"Earth\"\n",
        "    diameter = 12742\n",
        "\n",
        "** Use .format() to print the following string: **\n",
        "\n",
        "    The diameter of Earth is 12742 kilometers."
      ]
    },
    {
      "cell_type": "code",
      "execution_count": null,
      "metadata": {
        "collapsed": true,
        "id": "2TrzmDcS85j-"
      },
      "outputs": [],
      "source": [
        "planet = \"Earth\"\n",
        "diameter = 12742"
      ]
    },
    {
      "cell_type": "code",
      "execution_count": null,
      "metadata": {
        "id": "s_dQ7_xc85j_",
        "outputId": "b71cb29d-f5cd-4363-b6fb-592fc080dda3",
        "colab": {
          "base_uri": "https://localhost:8080/"
        }
      },
      "outputs": [
        {
          "output_type": "stream",
          "name": "stdout",
          "text": [
            "The diameter of Earth is 12742 kilometers.\n"
          ]
        }
      ],
      "source": [
        "planet = \"Earth\"\n",
        "diameter = 12742\n",
        "print( 'The diameter of {} is {} kilometers.' .format(planet,diameter));"
      ]
    },
    {
      "cell_type": "markdown",
      "metadata": {
        "id": "QAKtN7Hh85kB"
      },
      "source": [
        "** Given this nested list, use indexing to grab the word \"hello\" **"
      ]
    },
    {
      "cell_type": "code",
      "execution_count": null,
      "metadata": {
        "collapsed": true,
        "id": "-7dzQDyK85kD"
      },
      "outputs": [],
      "source": [
        "lst = [1,2,[3,4],[5,[100,200,['hello']],23,11],1,7]"
      ]
    },
    {
      "cell_type": "code",
      "execution_count": null,
      "metadata": {
        "id": "6m5C0sTW85kE",
        "outputId": "b6ede2f4-9e09-4031-b4c6-2a59941c9f54",
        "colab": {
          "base_uri": "https://localhost:8080/"
        }
      },
      "outputs": [
        {
          "output_type": "stream",
          "name": "stdout",
          "text": [
            "['hello']\n"
          ]
        }
      ],
      "source": [
        "lst = [1,2,[3,4],[5,[100,200,['hello']],23,11],1,7]\n",
        "a=lst[3][1][2];\n",
        "print(a)"
      ]
    },
    {
      "cell_type": "markdown",
      "metadata": {
        "id": "9Ma7M4a185kF"
      },
      "source": [
        "** Given this nest dictionary grab the word \"hello\". Be prepared, this will be annoying/tricky **"
      ]
    },
    {
      "cell_type": "code",
      "execution_count": null,
      "metadata": {
        "id": "vrYAxSYN85kG"
      },
      "outputs": [],
      "source": [
        "d = {'k1':[1,2,3,{'tricky':['oh','man','inception',{'target':[1,2,3,'hello']}]}]}"
      ]
    },
    {
      "cell_type": "code",
      "execution_count": null,
      "metadata": {
        "id": "FlILSdm485kH",
        "outputId": "22f1f1d4-0615-4e3f-cd5a-587f8bc5a895",
        "colab": {
          "base_uri": "https://localhost:8080/"
        }
      },
      "outputs": [
        {
          "output_type": "stream",
          "name": "stdout",
          "text": [
            "hello\n"
          ]
        }
      ],
      "source": [
        "d = {'k1':[1,2,3,{'tricky':['oh','man','inception',{'target':[1,2,3,'hello']}]}]}\n",
        "print(d['k1'][3][\"tricky\"][3]['target'][3])\n"
      ]
    },
    {
      "cell_type": "markdown",
      "metadata": {
        "id": "FInV_FKB85kI"
      },
      "source": [
        "** What is the main difference between a tuple and a list? **"
      ]
    },
    {
      "cell_type": "code",
      "execution_count": null,
      "metadata": {
        "collapsed": true,
        "id": "_VBWf00q85kJ"
      },
      "outputs": [],
      "source": [
        "# Tuple is immutable\n",
        "#Tuples operations are safe.\n",
        "#Tuples consumes less memory."
      ]
    },
    {
      "cell_type": "markdown",
      "metadata": {
        "id": "zP-j0HZj85kK"
      },
      "source": [
        "** Create a function that grabs the email website domain from a string in the form: **\n",
        "\n",
        "    user@domain.com\n",
        "    \n",
        "**So for example, passing \"user@domain.com\" would return: domain.com**"
      ]
    },
    {
      "cell_type": "code",
      "execution_count": null,
      "metadata": {
        "collapsed": true,
        "id": "unvEAwjk85kL",
        "colab": {
          "base_uri": "https://localhost:8080/"
        },
        "outputId": "f3e53fb6-de5c-4540-a796-6e428c36f7e4"
      },
      "outputs": [
        {
          "output_type": "stream",
          "name": "stdout",
          "text": [
            "Please enter your email: >user@domain.com\n",
            "Your domain is: domain.com\n"
          ]
        }
      ],
      "source": [
        "def domainGet(email):\n",
        "    print(\"Your domain is: \" + email.split('@')[-1])\n",
        "\n",
        "email = input(\"Please enter your email: >\")\n",
        "domainGet(email)"
      ]
    },
    {
      "cell_type": "code",
      "execution_count": null,
      "metadata": {
        "id": "Gb9dspLC85kL"
      },
      "outputs": [],
      "source": []
    },
    {
      "cell_type": "markdown",
      "metadata": {
        "id": "gYydb-y085kM"
      },
      "source": [
        "** Create a basic function that returns True if the word 'dog' is contained in the input string. Don't worry about edge cases like a punctuation being attached to the word dog, but do account for capitalization. **"
      ]
    },
    {
      "cell_type": "code",
      "execution_count": null,
      "metadata": {
        "collapsed": true,
        "id": "Q4ldLGV785kM",
        "colab": {
          "base_uri": "https://localhost:8080/"
        },
        "outputId": "c10a49e7-7605-40f2-bd67-acbd08866762"
      },
      "outputs": [
        {
          "output_type": "stream",
          "name": "stdout",
          "text": [
            "True\n"
          ]
        }
      ],
      "source": [
        "def findDog(st):\n",
        "    if 'dog' in st.lower():\n",
        "        print(\"True\")\n",
        "    else:\n",
        "        print(\"False\")\n",
        "\n",
        "st = \"Is there a dog here?\"\n",
        "findDog(st)"
      ]
    },
    {
      "cell_type": "code",
      "execution_count": null,
      "metadata": {
        "id": "EqH6b7yv85kN",
        "outputId": "66020dc9-2fd4-4404-ae2a-757e88463359",
        "colab": {
          "base_uri": "https://localhost:8080/"
        }
      },
      "outputs": [
        {
          "output_type": "stream",
          "name": "stdout",
          "text": [
            "True\n"
          ]
        }
      ],
      "source": [
        "findDog('Is there a dog here?')"
      ]
    },
    {
      "cell_type": "markdown",
      "metadata": {
        "id": "AyHQFALC85kO"
      },
      "source": [
        "** Create a function that counts the number of times the word \"dog\" occurs in a string. Again ignore edge cases. **"
      ]
    },
    {
      "cell_type": "code",
      "execution_count": null,
      "metadata": {
        "id": "6hdc169585kO"
      },
      "outputs": [],
      "source": [
        "def countDog(st):\n",
        "    count = 0\n",
        "    for word in st.lower().split():\n",
        "        if word == 'dog':\n",
        "            count += 1\n",
        "    return count"
      ]
    },
    {
      "cell_type": "code",
      "execution_count": null,
      "metadata": {
        "id": "igzsvHb385kO",
        "outputId": "4a760709-6302-416b-c954-c0538d1acd77",
        "colab": {
          "base_uri": "https://localhost:8080/"
        }
      },
      "outputs": [
        {
          "output_type": "execute_result",
          "data": {
            "text/plain": [
              "2"
            ]
          },
          "metadata": {},
          "execution_count": 17
        }
      ],
      "source": [
        "countDog('This dog runs faster than the other dog dude!')"
      ]
    },
    {
      "cell_type": "markdown",
      "metadata": {
        "id": "3n7jJt4k85kP"
      },
      "source": [
        "\n",
        "### Problem\n",
        "**You are driving a little too fast, and a police officer stops you. Write a function\n",
        "  to return one of 3 possible results: \"No ticket\", \"Small ticket\", or \"Big Ticket\". \n",
        "  If your speed is 60 or less, the result is \"No Ticket\". If speed is between 61 \n",
        "  and 80 inclusive, the result is \"Small Ticket\". If speed is 81 or more, the result is \"Big    Ticket\". Unless it is your birthday (encoded as a boolean value in the parameters of the function) -- on your birthday, your speed can be 5 higher in all \n",
        "  cases. **"
      ]
    },
    {
      "cell_type": "code",
      "execution_count": null,
      "metadata": {
        "collapsed": true,
        "id": "nvXMkvWk85kQ"
      },
      "outputs": [],
      "source": [
        "def caught_speeding(speed, is_birthday):\n",
        "    \n",
        "    if is_birthday:\n",
        "        speeding = speed - 5\n",
        "    else:\n",
        "        speeding = speed\n",
        "    \n",
        "    if speeding > 80:\n",
        "        return 'Big Ticket'\n",
        "    elif speeding > 60:\n",
        "        return 'Small Ticket'\n",
        "    else:\n",
        "        return 'No Ticket'"
      ]
    },
    {
      "cell_type": "code",
      "execution_count": null,
      "metadata": {
        "id": "BU_UZcyk85kS",
        "outputId": "dfb80d83-2407-41ce-f477-7d3a8da89f63",
        "colab": {
          "base_uri": "https://localhost:8080/",
          "height": 35
        }
      },
      "outputs": [
        {
          "output_type": "execute_result",
          "data": {
            "text/plain": [
              "'Big Ticket'"
            ],
            "application/vnd.google.colaboratory.intrinsic+json": {
              "type": "string"
            }
          },
          "metadata": {},
          "execution_count": 19
        }
      ],
      "source": [
        "caught_speeding(81,False)"
      ]
    },
    {
      "cell_type": "code",
      "execution_count": null,
      "metadata": {
        "id": "p1AGJ7DM85kR",
        "outputId": "e74d1d33-01d1-42e5-a22e-0be2f1c2902a",
        "colab": {
          "base_uri": "https://localhost:8080/",
          "height": 35
        }
      },
      "outputs": [
        {
          "output_type": "execute_result",
          "data": {
            "text/plain": [
              "'Small Ticket'"
            ],
            "application/vnd.google.colaboratory.intrinsic+json": {
              "type": "string"
            }
          },
          "metadata": {},
          "execution_count": 20
        }
      ],
      "source": [
        "caught_speeding(81,True)\n"
      ]
    },
    {
      "cell_type": "markdown",
      "source": [
        "Create an employee list with basic salary values(at least 5 values for 5 employees)  and using a for loop retreive each employee salary and calculate total salary expenditure. "
      ],
      "metadata": {
        "id": "Tie4rC7_kAOC"
      }
    },
    {
      "cell_type": "code",
      "source": [
        "def weeklyPaid(hours_worked, wage):\n",
        "    if hours_worked > 40:\n",
        "        return 40 * wage + (hours_worked - 40) * wage * 1.5\n",
        "    else:\n",
        "        return hours_worked * wage\n",
        " \n",
        " \n",
        "hours_worked = 50\n",
        "wage = 100\n",
        " \n",
        "pay = weeklyPaid(hours_worked, wage)\n",
        " \n",
        "print(f\"Total gross pay: Rs.{pay:.2f} \")"
      ],
      "metadata": {
        "id": "R5-CdXSKjacN",
        "colab": {
          "base_uri": "https://localhost:8080/"
        },
        "outputId": "e295f455-9ac8-4c41-fa8a-c3b3b4e03670"
      },
      "execution_count": null,
      "outputs": [
        {
          "output_type": "stream",
          "name": "stdout",
          "text": [
            "Total gross pay: Rs.5500.00 \n"
          ]
        }
      ]
    },
    {
      "cell_type": "markdown",
      "source": [
        "Create two dictionaries in Python:\n",
        "\n",
        "First one to contain fields as Empid,  Empname,  Basicpay\n",
        "\n",
        "Second dictionary to contain fields as DeptName,  DeptId.\n",
        "\n",
        "Combine both dictionaries. "
      ],
      "metadata": {
        "id": "-L1aiFqRkF5s"
      }
    },
    {
      "cell_type": "code",
      "source": [
        "\n",
        "# Python3 code to demonstrate working of \n",
        "# Assign similar index values in Dictionary\n",
        "# Using loop + keys()\n",
        "  \n",
        "# initializing dictionaries\n",
        "test_dict1 = {\"Gfg\" : 20, \"is\" : 36, \"best\" : 100}\n",
        "test_dict2 = {\"Gfg2\" : 26, \"is2\" : 19, \"best2\" : 70}\n",
        "  \n",
        "# printing original dictionaries\n",
        "print(\"The original dictionary 1 is : \" + str(test_dict1))\n",
        "print(\"The original dictionary 2 is : \" + str(test_dict2))\n",
        "  \n",
        "# extracting keys and values\n",
        "keys1 = list(test_dict1.keys())\n",
        "vals2 = list(test_dict2.values())\n",
        "  \n",
        "# assigning new values \n",
        "res = dict()\n",
        "for idx in range(len(keys1)):\n",
        "    res[keys1[idx]] = vals2[idx]\n",
        "      \n",
        "# printing result \n",
        "print(\"Mapped dictionary : \" + str(res))"
      ],
      "metadata": {
        "id": "8ugVoEe0kOsk",
        "colab": {
          "base_uri": "https://localhost:8080/"
        },
        "outputId": "65cdec2a-71fd-420d-f720-b81ed673dba0"
      },
      "execution_count": null,
      "outputs": [
        {
          "output_type": "stream",
          "name": "stdout",
          "text": [
            "The original dictionary 1 is : {'Gfg': 20, 'is': 36, 'best': 100}\n",
            "The original dictionary 2 is : {'Gfg2': 26, 'is2': 19, 'best2': 70}\n",
            "Mapped dictionary : {'Gfg': 26, 'is': 19, 'best': 70}\n"
          ]
        }
      ]
    },
    {
      "cell_type": "code",
      "source": [
        "# Python3 code to demonstrate working of \n",
        "# Assign similar index values in Dictionary\n",
        "# Using zip() + values()\n",
        "  \n",
        "# initializing dictionaries\n",
        "test_dict1 = {\"Gfg\" : 20, \"is\" : 36, \"best\" : 100}\n",
        "test_dict2 = {\"Gfg2\" : 26, \"is2\" : 19, \"best2\" : 70}\n",
        "  \n",
        "# printing original dictionaries\n",
        "print(\"The original dictionary 1 is : \" + str(test_dict1))\n",
        "print(\"The original dictionary 2 is : \" + str(test_dict2))\n",
        "  \n",
        "# using zip() to perform required dict. mapping \n",
        "res = dict(zip(test_dict1, test_dict2.values()))\n",
        "      \n",
        "# printing result \n",
        "print(\"Mapped dictionary : \" + str(res)) "
      ],
      "metadata": {
        "colab": {
          "base_uri": "https://localhost:8080/"
        },
        "id": "sDa1NH4vQiZ7",
        "outputId": "f672a56c-f206-416a-a395-0036bc7b94eb"
      },
      "execution_count": null,
      "outputs": [
        {
          "output_type": "stream",
          "name": "stdout",
          "text": [
            "The original dictionary 1 is : {'Gfg': 20, 'is': 36, 'best': 100}\n",
            "The original dictionary 2 is : {'Gfg2': 26, 'is2': 19, 'best2': 70}\n",
            "Mapped dictionary : {'Gfg': 26, 'is': 19, 'best': 70}\n"
          ]
        }
      ]
    },
    {
      "cell_type": "code",
      "source": [],
      "metadata": {
        "id": "S-L2EwMjQpQc"
      },
      "execution_count": null,
      "outputs": []
    }
  ],
  "metadata": {
    "colab": {
      "provenance": [],
      "collapsed_sections": []
    },
    "kernelspec": {
      "display_name": "Python 3",
      "language": "python",
      "name": "python3"
    },
    "language_info": {
      "codemirror_mode": {
        "name": "ipython",
        "version": 3
      },
      "file_extension": ".py",
      "mimetype": "text/x-python",
      "name": "python",
      "nbconvert_exporter": "python",
      "pygments_lexer": "ipython3",
      "version": "3.8.5"
    }
  },
  "nbformat": 4,
  "nbformat_minor": 0
}